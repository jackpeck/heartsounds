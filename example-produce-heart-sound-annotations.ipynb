{
 "cells": [
  {
   "cell_type": "code",
   "execution_count": 1,
   "metadata": {},
   "outputs": [],
   "source": [
    "from src.find_ecg_peaks import find_ecg_peaks\n",
    "from src.annotations import get_heart_sound_timings_by_intervals, save_annotations_to_file\n",
    "import wfdb"
   ]
  },
  {
   "cell_type": "code",
   "execution_count": 2,
   "metadata": {},
   "outputs": [],
   "source": [
    "file_name = 'ECGPCG0004'\n",
    "original_signal, fields = wfdb.rdsamp(file_name, pn_dir='ephnogram/WFDB', channels=[0])\n",
    "ecg = original_signal[:, 0]\n",
    "ecg_sample_rate = fields['fs']\n",
    "annotations_base_filename = f'annotation_{file_name}'"
   ]
  },
  {
   "cell_type": "code",
   "execution_count": 3,
   "metadata": {},
   "outputs": [
    {
     "name": "stdout",
     "output_type": "stream",
     "text": [
      "Learning initial signal parameters...\n",
      "Found 8 beats during learning. Initializing using learned parameters\n",
      "Running QRS detection...\n",
      "QRS detection complete.\n"
     ]
    }
   ],
   "source": [
    "ecg_peaks = find_ecg_peaks(ecg, ecg_sample_rate)"
   ]
  },
  {
   "cell_type": "code",
   "execution_count": 4,
   "metadata": {},
   "outputs": [],
   "source": [
    "heart_sound_annotations_by_intervals = get_heart_sound_timings_by_intervals(ecg_peaks)"
   ]
  },
  {
   "cell_type": "code",
   "execution_count": 5,
   "metadata": {},
   "outputs": [],
   "source": [
    "annotations_folder_path = './annotations/'\n",
    "save_annotations_to_file(annotations_folder_path, annotations_base_filename, heart_sound_annotations_by_intervals)"
   ]
  }
 ],
 "metadata": {
  "kernelspec": {
   "display_name": "Python 3",
   "language": "python",
   "name": "python3"
  },
  "language_info": {
   "codemirror_mode": {
    "name": "ipython",
    "version": 3
   },
   "file_extension": ".py",
   "mimetype": "text/x-python",
   "name": "python",
   "nbconvert_exporter": "python",
   "pygments_lexer": "ipython3",
   "version": "3.11.4"
  },
  "orig_nbformat": 4
 },
 "nbformat": 4,
 "nbformat_minor": 2
}
