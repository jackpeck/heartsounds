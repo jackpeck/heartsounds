{
 "cells": [
  {
   "cell_type": "code",
   "execution_count": 1,
   "metadata": {},
   "outputs": [],
   "source": [
    "from src.load_ecg_data import load_ecg_data\n",
    "from src.find_ecg_peaks import find_ecg_peaks\n",
    "from src.annotations import get_heart_sound_timings_by_intervals, save_annotations_to_file\n",
    "from example_dataset.alignments import get_alignment_offset\n",
    "import os"
   ]
  },
  {
   "cell_type": "code",
   "execution_count": 2,
   "metadata": {},
   "outputs": [],
   "source": [
    "ecg_folder_path = './example_dataset/ECG_Data/'\n",
    "ecg_filepath_template = '{}_{}.csv'"
   ]
  },
  {
   "cell_type": "code",
   "execution_count": 3,
   "metadata": {},
   "outputs": [
    {
     "data": {
      "text/plain": [
       "[('./example_dataset/ECG_Data/Lying_1.csv', 'Lying', 1),\n",
       " ('./example_dataset/ECG_Data/Lying_2.csv', 'Lying', 2),\n",
       " ('./example_dataset/ECG_Data/Lying_3.csv', 'Lying', 3),\n",
       " ('./example_dataset/ECG_Data/Cooldown_1.csv', 'Cooldown', 1),\n",
       " ('./example_dataset/ECG_Data/Cooldown_2.csv', 'Cooldown', 2),\n",
       " ('./example_dataset/ECG_Data/Cooldown_3.csv', 'Cooldown', 3),\n",
       " ('./example_dataset/ECG_Data/Normal_1.csv', 'Normal', 1),\n",
       " ('./example_dataset/ECG_Data/Normal_2.csv', 'Normal', 2),\n",
       " ('./example_dataset/ECG_Data/Normal_3.csv', 'Normal', 3)]"
      ]
     },
     "execution_count": 3,
     "metadata": {},
     "output_type": "execute_result"
    }
   ],
   "source": [
    "activities = ['Lying', 'Cooldown', 'Normal']\n",
    "subjects = [1, 2, 3]\n",
    "\n",
    "files_info = []\n",
    "\n",
    "for activity in activities:\n",
    "    for subject in subjects:\n",
    "        ecg_csv_filepath = ecg_folder_path + ecg_filepath_template.format(activity, subject)\n",
    "        files_info.append((ecg_csv_filepath, activity, subject))\n",
    "files_info"
   ]
  },
  {
   "cell_type": "code",
   "execution_count": 4,
   "metadata": {},
   "outputs": [],
   "source": [
    "annotations_folder_path = './annotations/'\n",
    "if not os.path.exists(annotations_folder_path):\n",
    "    os.makedirs(annotations_folder_path)"
   ]
  },
  {
   "cell_type": "code",
   "execution_count": 5,
   "metadata": {},
   "outputs": [
    {
     "name": "stdout",
     "output_type": "stream",
     "text": [
      "Processing 1/9 ./example_dataset/ECG_Data/Lying_1.csv\n",
      "Processing 2/9 ./example_dataset/ECG_Data/Lying_2.csv\n",
      "Processing 3/9 ./example_dataset/ECG_Data/Lying_3.csv\n",
      "Processing 4/9 ./example_dataset/ECG_Data/Cooldown_1.csv\n",
      "Processing 5/9 ./example_dataset/ECG_Data/Cooldown_2.csv\n",
      "Processing 6/9 ./example_dataset/ECG_Data/Cooldown_3.csv\n",
      "Processing 7/9 ./example_dataset/ECG_Data/Normal_1.csv\n",
      "Processing 8/9 ./example_dataset/ECG_Data/Normal_2.csv\n",
      "Processing 9/9 ./example_dataset/ECG_Data/Normal_3.csv\n",
      "Done\n"
     ]
    }
   ],
   "source": [
    "for i, (ecg_csv_filepath, activity, subject) in enumerate(files_info):\n",
    "    print(f'Processing {i+1}/{len(files_info)} {ecg_csv_filepath}')\n",
    "\n",
    "    ecg, ecg_sample_rate = load_ecg_data(ecg_csv_filepath)\n",
    "    ecg_peaks = find_ecg_peaks(ecg, ecg_sample_rate)\n",
    "\n",
    "    alignment_offset = get_alignment_offset(subject)\n",
    "\n",
    "    heart_sound_annotations_by_intervals = get_heart_sound_timings_by_intervals(ecg_peaks, audio_timing_offset=alignment_offset)\n",
    "\n",
    "    annotations_base_filename = f'annotation_{activity}_{subject}'\n",
    "\n",
    "    save_annotations_to_file(annotations_folder_path, annotations_base_filename, heart_sound_annotations_by_intervals)\n",
    "\n",
    "print('Done')"
   ]
  }
 ],
 "metadata": {
  "kernelspec": {
   "display_name": "Python 3",
   "language": "python",
   "name": "python3"
  },
  "language_info": {
   "codemirror_mode": {
    "name": "ipython",
    "version": 3
   },
   "file_extension": ".py",
   "mimetype": "text/x-python",
   "name": "python",
   "nbconvert_exporter": "python",
   "pygments_lexer": "ipython3",
   "version": "3.11.4"
  },
  "orig_nbformat": 4
 },
 "nbformat": 4,
 "nbformat_minor": 2
}
