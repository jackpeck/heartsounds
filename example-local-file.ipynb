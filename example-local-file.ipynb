{
 "cells": [
  {
   "cell_type": "code",
   "execution_count": 1,
   "metadata": {},
   "outputs": [],
   "source": [
    "from src.load_ecg_data import load_ecg_data\n",
    "from src.find_ecg_peaks import find_ecg_peaks\n",
    "from src.annotations import (\n",
    "    get_heart_sound_timings_by_intervals,\n",
    "    save_annotations_to_file,\n",
    ")\n",
    "from example_dataset.alignments import get_alignment_offset"
   ]
  },
  {
   "cell_type": "code",
   "execution_count": 2,
   "metadata": {},
   "outputs": [],
   "source": [
    "activity = \"Lying\"\n",
    "subject = 2\n",
    "\n",
    "ecg_folder_path = \"./example_dataset/ECG_Data/\"\n",
    "ecg_filepath_template = \"{}_{}.csv\"\n",
    "ecg_csv_filepath = ecg_folder_path + ecg_filepath_template.format(activity, subject)\n",
    "annotations_base_filename = f\"annotation_{activity}_{subject}\"\n",
    "\n",
    "ecg, ecg_sample_rate = load_ecg_data(ecg_csv_filepath)\n",
    "alignment_offset = get_alignment_offset(subject)"
   ]
  },
  {
   "cell_type": "code",
   "execution_count": 3,
   "metadata": {},
   "outputs": [],
   "source": [
    "ecg_peaks = find_ecg_peaks(ecg, ecg_sample_rate)"
   ]
  },
  {
   "cell_type": "code",
   "execution_count": 4,
   "metadata": {},
   "outputs": [],
   "source": [
    "heart_sound_annotations_by_intervals = get_heart_sound_timings_by_intervals(\n",
    "    ecg_peaks, audio_timing_offset=alignment_offset\n",
    ")"
   ]
  },
  {
   "cell_type": "code",
   "execution_count": 5,
   "metadata": {},
   "outputs": [],
   "source": [
    "annotations_folder_path = \"./annotations/\"\n",
    "save_annotations_to_file(\n",
    "    annotations_folder_path,\n",
    "    annotations_base_filename,\n",
    "    heart_sound_annotations_by_intervals,\n",
    ")"
   ]
  }
 ],
 "metadata": {
  "kernelspec": {
   "display_name": "Python 3",
   "language": "python",
   "name": "python3"
  },
  "language_info": {
   "codemirror_mode": {
    "name": "ipython",
    "version": 3
   },
   "file_extension": ".py",
   "mimetype": "text/x-python",
   "name": "python",
   "nbconvert_exporter": "python",
   "pygments_lexer": "ipython3",
   "version": "3.11.4"
  },
  "orig_nbformat": 4
 },
 "nbformat": 4,
 "nbformat_minor": 2
}
